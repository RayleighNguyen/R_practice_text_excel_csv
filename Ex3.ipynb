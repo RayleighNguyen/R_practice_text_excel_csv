{
 "cells": [
  {
   "cell_type": "code",
   "execution_count": 1,
   "id": "c8c0962d",
   "metadata": {},
   "outputs": [
    {
     "data": {
      "text/html": [
       "'/Users/macos/Desktop/LDS7/Bai_tap/Chapter_9'"
      ],
      "text/latex": [
       "'/Users/macos/Desktop/LDS7/Bai\\_tap/Chapter\\_9'"
      ],
      "text/markdown": [
       "'/Users/macos/Desktop/LDS7/Bai_tap/Chapter_9'"
      ],
      "text/plain": [
       "[1] \"/Users/macos/Desktop/LDS7/Bai_tap/Chapter_9\""
      ]
     },
     "metadata": {},
     "output_type": "display_data"
    }
   ],
   "source": [
    "getwd()"
   ]
  },
  {
   "cell_type": "code",
   "execution_count": 3,
   "id": "a7d1b3a3",
   "metadata": {},
   "outputs": [],
   "source": [
    "df = read.table('Chapter9/Du_lieu/Table6.txt',\n",
    "               skip = 1,\n",
    "               header = TRUE,\n",
    "               flush = TRUE,\n",
    "               comment.char = '@',\n",
    "               stringsAsFactors = FALSE)"
   ]
  },
  {
   "cell_type": "code",
   "execution_count": 5,
   "id": "84fd7ec5",
   "metadata": {},
   "outputs": [
    {
     "data": {
      "text/html": [
       "<table class=\"dataframe\">\n",
       "<caption>A data.frame: 6 × 5</caption>\n",
       "<thead>\n",
       "\t<tr><th></th><th scope=col>Name</th><th scope=col>Age</th><th scope=col>Height</th><th scope=col>Weight</th><th scope=col>Sex</th></tr>\n",
       "\t<tr><th></th><th scope=col>&lt;chr&gt;</th><th scope=col>&lt;int&gt;</th><th scope=col>&lt;int&gt;</th><th scope=col>&lt;int&gt;</th><th scope=col>&lt;chr&gt;</th></tr>\n",
       "</thead>\n",
       "<tbody>\n",
       "\t<tr><th scope=row>1</th><td>Alex  </td><td>25</td><td>177</td><td>57</td><td>F</td></tr>\n",
       "\t<tr><th scope=row>2</th><td>Lilly </td><td>31</td><td>163</td><td>69</td><td>F</td></tr>\n",
       "\t<tr><th scope=row>3</th><td>Mark  </td><td>23</td><td>190</td><td>83</td><td>M</td></tr>\n",
       "\t<tr><th scope=row>4</th><td>Oliver</td><td>52</td><td>179</td><td>75</td><td>M</td></tr>\n",
       "\t<tr><th scope=row>5</th><td>Martha</td><td>76</td><td>163</td><td>70</td><td>F</td></tr>\n",
       "\t<tr><th scope=row>6</th><td>Lucas </td><td>49</td><td>183</td><td>83</td><td>M</td></tr>\n",
       "</tbody>\n",
       "</table>\n"
      ],
      "text/latex": [
       "A data.frame: 6 × 5\n",
       "\\begin{tabular}{r|lllll}\n",
       "  & Name & Age & Height & Weight & Sex\\\\\n",
       "  & <chr> & <int> & <int> & <int> & <chr>\\\\\n",
       "\\hline\n",
       "\t1 & Alex   & 25 & 177 & 57 & F\\\\\n",
       "\t2 & Lilly  & 31 & 163 & 69 & F\\\\\n",
       "\t3 & Mark   & 23 & 190 & 83 & M\\\\\n",
       "\t4 & Oliver & 52 & 179 & 75 & M\\\\\n",
       "\t5 & Martha & 76 & 163 & 70 & F\\\\\n",
       "\t6 & Lucas  & 49 & 183 & 83 & M\\\\\n",
       "\\end{tabular}\n"
      ],
      "text/markdown": [
       "\n",
       "A data.frame: 6 × 5\n",
       "\n",
       "| <!--/--> | Name &lt;chr&gt; | Age &lt;int&gt; | Height &lt;int&gt; | Weight &lt;int&gt; | Sex &lt;chr&gt; |\n",
       "|---|---|---|---|---|---|\n",
       "| 1 | Alex   | 25 | 177 | 57 | F |\n",
       "| 2 | Lilly  | 31 | 163 | 69 | F |\n",
       "| 3 | Mark   | 23 | 190 | 83 | M |\n",
       "| 4 | Oliver | 52 | 179 | 75 | M |\n",
       "| 5 | Martha | 76 | 163 | 70 | F |\n",
       "| 6 | Lucas  | 49 | 183 | 83 | M |\n",
       "\n"
      ],
      "text/plain": [
       "  Name   Age Height Weight Sex\n",
       "1 Alex   25  177    57     F  \n",
       "2 Lilly  31  163    69     F  \n",
       "3 Mark   23  190    83     M  \n",
       "4 Oliver 52  179    75     M  \n",
       "5 Martha 76  163    70     F  \n",
       "6 Lucas  49  183    83     M  "
      ]
     },
     "metadata": {},
     "output_type": "display_data"
    }
   ],
   "source": [
    "head(df)"
   ]
  },
  {
   "cell_type": "code",
   "execution_count": 6,
   "id": "5b7b1cd6",
   "metadata": {},
   "outputs": [
    {
     "data": {
      "text/html": [
       "105"
      ],
      "text/latex": [
       "105"
      ],
      "text/markdown": [
       "105"
      ],
      "text/plain": [
       "[1] 105"
      ]
     },
     "metadata": {},
     "output_type": "display_data"
    }
   ],
   "source": [
    "nrow(df)"
   ]
  },
  {
   "cell_type": "code",
   "execution_count": 8,
   "id": "c269e778",
   "metadata": {},
   "outputs": [
    {
     "name": "stderr",
     "output_type": "stream",
     "text": [
      "── \u001b[1mAttaching packages\u001b[22m ─────────────────────────────────────── tidyverse 1.3.1 ──\n",
      "\n",
      "\u001b[32m✔\u001b[39m \u001b[34mggplot2\u001b[39m 3.3.5     \u001b[32m✔\u001b[39m \u001b[34mpurrr  \u001b[39m 0.3.4\n",
      "\u001b[32m✔\u001b[39m \u001b[34mtibble \u001b[39m 3.1.2     \u001b[32m✔\u001b[39m \u001b[34mdplyr  \u001b[39m 1.0.7\n",
      "\u001b[32m✔\u001b[39m \u001b[34mtidyr  \u001b[39m 1.1.3     \u001b[32m✔\u001b[39m \u001b[34mstringr\u001b[39m 1.4.0\n",
      "\u001b[32m✔\u001b[39m \u001b[34mreadr  \u001b[39m 1.4.0     \u001b[32m✔\u001b[39m \u001b[34mforcats\u001b[39m 0.5.1\n",
      "\n",
      "── \u001b[1mConflicts\u001b[22m ────────────────────────────────────────── tidyverse_conflicts() ──\n",
      "\u001b[31m✖\u001b[39m \u001b[34mdplyr\u001b[39m::\u001b[32mfilter()\u001b[39m masks \u001b[34mstats\u001b[39m::filter()\n",
      "\u001b[31m✖\u001b[39m \u001b[34mdplyr\u001b[39m::\u001b[32mlag()\u001b[39m    masks \u001b[34mstats\u001b[39m::lag()\n",
      "\n"
     ]
    }
   ],
   "source": [
    "library(tidyverse)"
   ]
  },
  {
   "cell_type": "code",
   "execution_count": 9,
   "id": "dd150a5d",
   "metadata": {},
   "outputs": [
    {
     "data": {
      "text/html": [
       "<table class=\"dataframe\">\n",
       "<caption>A data.frame: 7 × 5</caption>\n",
       "<thead>\n",
       "\t<tr><th scope=col>Name</th><th scope=col>Age</th><th scope=col>Height</th><th scope=col>Weight</th><th scope=col>Sex</th></tr>\n",
       "\t<tr><th scope=col>&lt;chr&gt;</th><th scope=col>&lt;int&gt;</th><th scope=col>&lt;int&gt;</th><th scope=col>&lt;int&gt;</th><th scope=col>&lt;chr&gt;</th></tr>\n",
       "</thead>\n",
       "<tbody>\n",
       "\t<tr><td>Alex    </td><td>25</td><td>177</td><td>57</td><td>F</td></tr>\n",
       "\t<tr><td>Lilly   </td><td>31</td><td>163</td><td>69</td><td>F</td></tr>\n",
       "\t<tr><td>Mark    </td><td>23</td><td>190</td><td>83</td><td>M</td></tr>\n",
       "\t<tr><td>Oliver  </td><td>52</td><td>179</td><td>75</td><td>M</td></tr>\n",
       "\t<tr><td>Martha  </td><td>76</td><td>163</td><td>70</td><td>F</td></tr>\n",
       "\t<tr><td>Lucas   </td><td>49</td><td>183</td><td>83</td><td>M</td></tr>\n",
       "\t<tr><td>Caroline</td><td>26</td><td>164</td><td>53</td><td>F</td></tr>\n",
       "</tbody>\n",
       "</table>\n"
      ],
      "text/latex": [
       "A data.frame: 7 × 5\n",
       "\\begin{tabular}{lllll}\n",
       " Name & Age & Height & Weight & Sex\\\\\n",
       " <chr> & <int> & <int> & <int> & <chr>\\\\\n",
       "\\hline\n",
       "\t Alex     & 25 & 177 & 57 & F\\\\\n",
       "\t Lilly    & 31 & 163 & 69 & F\\\\\n",
       "\t Mark     & 23 & 190 & 83 & M\\\\\n",
       "\t Oliver   & 52 & 179 & 75 & M\\\\\n",
       "\t Martha   & 76 & 163 & 70 & F\\\\\n",
       "\t Lucas    & 49 & 183 & 83 & M\\\\\n",
       "\t Caroline & 26 & 164 & 53 & F\\\\\n",
       "\\end{tabular}\n"
      ],
      "text/markdown": [
       "\n",
       "A data.frame: 7 × 5\n",
       "\n",
       "| Name &lt;chr&gt; | Age &lt;int&gt; | Height &lt;int&gt; | Weight &lt;int&gt; | Sex &lt;chr&gt; |\n",
       "|---|---|---|---|---|\n",
       "| Alex     | 25 | 177 | 57 | F |\n",
       "| Lilly    | 31 | 163 | 69 | F |\n",
       "| Mark     | 23 | 190 | 83 | M |\n",
       "| Oliver   | 52 | 179 | 75 | M |\n",
       "| Martha   | 76 | 163 | 70 | F |\n",
       "| Lucas    | 49 | 183 | 83 | M |\n",
       "| Caroline | 26 | 164 | 53 | F |\n",
       "\n"
      ],
      "text/plain": [
       "  Name     Age Height Weight Sex\n",
       "1 Alex     25  177    57     F  \n",
       "2 Lilly    31  163    69     F  \n",
       "3 Mark     23  190    83     M  \n",
       "4 Oliver   52  179    75     M  \n",
       "5 Martha   76  163    70     F  \n",
       "6 Lucas    49  183    83     M  \n",
       "7 Caroline 26  164    53     F  "
      ]
     },
     "metadata": {},
     "output_type": "display_data"
    }
   ],
   "source": [
    "# loai bo dong bi trung:\n",
    "# distinct()\n",
    "distinct(df)"
   ]
  },
  {
   "cell_type": "code",
   "execution_count": 10,
   "id": "3cf98b2f",
   "metadata": {},
   "outputs": [
    {
     "data": {
      "text/html": [
       "<table class=\"dataframe\">\n",
       "<caption>A data.frame: 7 × 5</caption>\n",
       "<thead>\n",
       "\t<tr><th></th><th scope=col>Name</th><th scope=col>Age</th><th scope=col>Height</th><th scope=col>Weight</th><th scope=col>Sex</th></tr>\n",
       "\t<tr><th></th><th scope=col>&lt;chr&gt;</th><th scope=col>&lt;int&gt;</th><th scope=col>&lt;int&gt;</th><th scope=col>&lt;int&gt;</th><th scope=col>&lt;chr&gt;</th></tr>\n",
       "</thead>\n",
       "<tbody>\n",
       "\t<tr><th scope=row>1</th><td>Alex    </td><td>25</td><td>177</td><td>57</td><td>F</td></tr>\n",
       "\t<tr><th scope=row>2</th><td>Lilly   </td><td>31</td><td>163</td><td>69</td><td>F</td></tr>\n",
       "\t<tr><th scope=row>3</th><td>Mark    </td><td>23</td><td>190</td><td>83</td><td>M</td></tr>\n",
       "\t<tr><th scope=row>4</th><td>Oliver  </td><td>52</td><td>179</td><td>75</td><td>M</td></tr>\n",
       "\t<tr><th scope=row>5</th><td>Martha  </td><td>76</td><td>163</td><td>70</td><td>F</td></tr>\n",
       "\t<tr><th scope=row>6</th><td>Lucas   </td><td>49</td><td>183</td><td>83</td><td>M</td></tr>\n",
       "\t<tr><th scope=row>7</th><td>Caroline</td><td>26</td><td>164</td><td>53</td><td>F</td></tr>\n",
       "</tbody>\n",
       "</table>\n"
      ],
      "text/latex": [
       "A data.frame: 7 × 5\n",
       "\\begin{tabular}{r|lllll}\n",
       "  & Name & Age & Height & Weight & Sex\\\\\n",
       "  & <chr> & <int> & <int> & <int> & <chr>\\\\\n",
       "\\hline\n",
       "\t1 & Alex     & 25 & 177 & 57 & F\\\\\n",
       "\t2 & Lilly    & 31 & 163 & 69 & F\\\\\n",
       "\t3 & Mark     & 23 & 190 & 83 & M\\\\\n",
       "\t4 & Oliver   & 52 & 179 & 75 & M\\\\\n",
       "\t5 & Martha   & 76 & 163 & 70 & F\\\\\n",
       "\t6 & Lucas    & 49 & 183 & 83 & M\\\\\n",
       "\t7 & Caroline & 26 & 164 & 53 & F\\\\\n",
       "\\end{tabular}\n"
      ],
      "text/markdown": [
       "\n",
       "A data.frame: 7 × 5\n",
       "\n",
       "| <!--/--> | Name &lt;chr&gt; | Age &lt;int&gt; | Height &lt;int&gt; | Weight &lt;int&gt; | Sex &lt;chr&gt; |\n",
       "|---|---|---|---|---|---|\n",
       "| 1 | Alex     | 25 | 177 | 57 | F |\n",
       "| 2 | Lilly    | 31 | 163 | 69 | F |\n",
       "| 3 | Mark     | 23 | 190 | 83 | M |\n",
       "| 4 | Oliver   | 52 | 179 | 75 | M |\n",
       "| 5 | Martha   | 76 | 163 | 70 | F |\n",
       "| 6 | Lucas    | 49 | 183 | 83 | M |\n",
       "| 7 | Caroline | 26 | 164 | 53 | F |\n",
       "\n"
      ],
      "text/plain": [
       "  Name     Age Height Weight Sex\n",
       "1 Alex     25  177    57     F  \n",
       "2 Lilly    31  163    69     F  \n",
       "3 Mark     23  190    83     M  \n",
       "4 Oliver   52  179    75     M  \n",
       "5 Martha   76  163    70     F  \n",
       "6 Lucas    49  183    83     M  \n",
       "7 Caroline 26  164    53     F  "
      ]
     },
     "metadata": {},
     "output_type": "display_data"
    }
   ],
   "source": [
    "# loai bo dong bi trung:\n",
    "# unique()\n",
    "unique(df)"
   ]
  },
  {
   "cell_type": "code",
   "execution_count": null,
   "id": "d3665415",
   "metadata": {},
   "outputs": [],
   "source": []
  }
 ],
 "metadata": {
  "kernelspec": {
   "display_name": "R",
   "language": "R",
   "name": "ir"
  },
  "language_info": {
   "codemirror_mode": "r",
   "file_extension": ".r",
   "mimetype": "text/x-r-source",
   "name": "R",
   "pygments_lexer": "r",
   "version": "4.1.0"
  }
 },
 "nbformat": 4,
 "nbformat_minor": 5
}
