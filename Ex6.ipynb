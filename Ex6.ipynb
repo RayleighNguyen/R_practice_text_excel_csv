{
 "cells": [
  {
   "cell_type": "code",
   "execution_count": 1,
   "id": "1fc8741a",
   "metadata": {},
   "outputs": [],
   "source": [
    "library(xlsx)"
   ]
  },
  {
   "cell_type": "code",
   "execution_count": 3,
   "id": "5d898727",
   "metadata": {},
   "outputs": [],
   "source": [
    "data = read.xlsx('Chapter9/Du_lieu/medals_new.xlsx', sheetName = '1932_skiing')"
   ]
  },
  {
   "cell_type": "code",
   "execution_count": 4,
   "id": "cae09a5d",
   "metadata": {},
   "outputs": [
    {
     "data": {
      "text/html": [
       "<table class=\"dataframe\">\n",
       "<caption>A data.frame: 12 × 9</caption>\n",
       "<thead>\n",
       "\t<tr><th scope=col>NA.</th><th scope=col>Year</th><th scope=col>City</th><th scope=col>Sport</th><th scope=col>Discipline</th><th scope=col>NOC</th><th scope=col>Event</th><th scope=col>Event.gender</th><th scope=col>Medal</th></tr>\n",
       "\t<tr><th scope=col>&lt;chr&gt;</th><th scope=col>&lt;chr&gt;</th><th scope=col>&lt;chr&gt;</th><th scope=col>&lt;chr&gt;</th><th scope=col>&lt;chr&gt;</th><th scope=col>&lt;chr&gt;</th><th scope=col>&lt;chr&gt;</th><th scope=col>&lt;chr&gt;</th><th scope=col>&lt;chr&gt;</th></tr>\n",
       "</thead>\n",
       "<tbody>\n",
       "\t<tr><td>100</td><td>1932</td><td>Lake Placid</td><td>Skiing</td><td>Cross Country S</td><td>FIN</td><td>18km                </td><td>M</td><td>Bronze</td></tr>\n",
       "\t<tr><td>101</td><td>1932</td><td>Lake Placid</td><td>Skiing</td><td>Cross Country S</td><td>FIN</td><td>50km                </td><td>M</td><td>Gold  </td></tr>\n",
       "\t<tr><td>102</td><td>1932</td><td>Lake Placid</td><td>Skiing</td><td>Cross Country S</td><td>FIN</td><td>50km                </td><td>M</td><td>Silver</td></tr>\n",
       "\t<tr><td>110</td><td>1932</td><td>Lake Placid</td><td>Skiing</td><td>Cross Country S</td><td>NOR</td><td>50km                </td><td>M</td><td>Bronze</td></tr>\n",
       "\t<tr><td>111</td><td>1932</td><td>Lake Placid</td><td>Skiing</td><td>Nordic Combined</td><td>NOR</td><td>individual          </td><td>M</td><td>Bronze</td></tr>\n",
       "\t<tr><td>112</td><td>1932</td><td>Lake Placid</td><td>Skiing</td><td>Nordic Combined</td><td>NOR</td><td>individual          </td><td>M</td><td>Gold  </td></tr>\n",
       "\t<tr><td>113</td><td>1932</td><td>Lake Placid</td><td>Skiing</td><td>Nordic Combined</td><td>NOR</td><td>individual          </td><td>M</td><td>Silver</td></tr>\n",
       "\t<tr><td>114</td><td>1932</td><td>Lake Placid</td><td>Skiing</td><td>Ski Jumping    </td><td>NOR</td><td>K90 individual (70m)</td><td>M</td><td>Bronze</td></tr>\n",
       "\t<tr><td>115</td><td>1932</td><td>Lake Placid</td><td>Skiing</td><td>Ski Jumping    </td><td>NOR</td><td>K90 individual (70m)</td><td>M</td><td>Gold  </td></tr>\n",
       "\t<tr><td>116</td><td>1932</td><td>Lake Placid</td><td>Skiing</td><td>Ski Jumping    </td><td>NOR</td><td>K90 individual (70m)</td><td>M</td><td>Silver</td></tr>\n",
       "\t<tr><td>119</td><td>1932</td><td>Lake Placid</td><td>Skiing</td><td>Cross Country S</td><td>SWE</td><td>18km                </td><td>M</td><td>Gold  </td></tr>\n",
       "\t<tr><td>120</td><td>1932</td><td>Lake Placid</td><td>Skiing</td><td>Cross Country S</td><td>SWE</td><td>18km                </td><td>M</td><td>Silver</td></tr>\n",
       "</tbody>\n",
       "</table>\n"
      ],
      "text/latex": [
       "A data.frame: 12 × 9\n",
       "\\begin{tabular}{lllllllll}\n",
       " NA. & Year & City & Sport & Discipline & NOC & Event & Event.gender & Medal\\\\\n",
       " <chr> & <chr> & <chr> & <chr> & <chr> & <chr> & <chr> & <chr> & <chr>\\\\\n",
       "\\hline\n",
       "\t 100 & 1932 & Lake Placid & Skiing & Cross Country S & FIN & 18km                 & M & Bronze\\\\\n",
       "\t 101 & 1932 & Lake Placid & Skiing & Cross Country S & FIN & 50km                 & M & Gold  \\\\\n",
       "\t 102 & 1932 & Lake Placid & Skiing & Cross Country S & FIN & 50km                 & M & Silver\\\\\n",
       "\t 110 & 1932 & Lake Placid & Skiing & Cross Country S & NOR & 50km                 & M & Bronze\\\\\n",
       "\t 111 & 1932 & Lake Placid & Skiing & Nordic Combined & NOR & individual           & M & Bronze\\\\\n",
       "\t 112 & 1932 & Lake Placid & Skiing & Nordic Combined & NOR & individual           & M & Gold  \\\\\n",
       "\t 113 & 1932 & Lake Placid & Skiing & Nordic Combined & NOR & individual           & M & Silver\\\\\n",
       "\t 114 & 1932 & Lake Placid & Skiing & Ski Jumping     & NOR & K90 individual (70m) & M & Bronze\\\\\n",
       "\t 115 & 1932 & Lake Placid & Skiing & Ski Jumping     & NOR & K90 individual (70m) & M & Gold  \\\\\n",
       "\t 116 & 1932 & Lake Placid & Skiing & Ski Jumping     & NOR & K90 individual (70m) & M & Silver\\\\\n",
       "\t 119 & 1932 & Lake Placid & Skiing & Cross Country S & SWE & 18km                 & M & Gold  \\\\\n",
       "\t 120 & 1932 & Lake Placid & Skiing & Cross Country S & SWE & 18km                 & M & Silver\\\\\n",
       "\\end{tabular}\n"
      ],
      "text/markdown": [
       "\n",
       "A data.frame: 12 × 9\n",
       "\n",
       "| NA. &lt;chr&gt; | Year &lt;chr&gt; | City &lt;chr&gt; | Sport &lt;chr&gt; | Discipline &lt;chr&gt; | NOC &lt;chr&gt; | Event &lt;chr&gt; | Event.gender &lt;chr&gt; | Medal &lt;chr&gt; |\n",
       "|---|---|---|---|---|---|---|---|---|\n",
       "| 100 | 1932 | Lake Placid | Skiing | Cross Country S | FIN | 18km                 | M | Bronze |\n",
       "| 101 | 1932 | Lake Placid | Skiing | Cross Country S | FIN | 50km                 | M | Gold   |\n",
       "| 102 | 1932 | Lake Placid | Skiing | Cross Country S | FIN | 50km                 | M | Silver |\n",
       "| 110 | 1932 | Lake Placid | Skiing | Cross Country S | NOR | 50km                 | M | Bronze |\n",
       "| 111 | 1932 | Lake Placid | Skiing | Nordic Combined | NOR | individual           | M | Bronze |\n",
       "| 112 | 1932 | Lake Placid | Skiing | Nordic Combined | NOR | individual           | M | Gold   |\n",
       "| 113 | 1932 | Lake Placid | Skiing | Nordic Combined | NOR | individual           | M | Silver |\n",
       "| 114 | 1932 | Lake Placid | Skiing | Ski Jumping     | NOR | K90 individual (70m) | M | Bronze |\n",
       "| 115 | 1932 | Lake Placid | Skiing | Ski Jumping     | NOR | K90 individual (70m) | M | Gold   |\n",
       "| 116 | 1932 | Lake Placid | Skiing | Ski Jumping     | NOR | K90 individual (70m) | M | Silver |\n",
       "| 119 | 1932 | Lake Placid | Skiing | Cross Country S | SWE | 18km                 | M | Gold   |\n",
       "| 120 | 1932 | Lake Placid | Skiing | Cross Country S | SWE | 18km                 | M | Silver |\n",
       "\n"
      ],
      "text/plain": [
       "   NA. Year City        Sport  Discipline      NOC Event               \n",
       "1  100 1932 Lake Placid Skiing Cross Country S FIN 18km                \n",
       "2  101 1932 Lake Placid Skiing Cross Country S FIN 50km                \n",
       "3  102 1932 Lake Placid Skiing Cross Country S FIN 50km                \n",
       "4  110 1932 Lake Placid Skiing Cross Country S NOR 50km                \n",
       "5  111 1932 Lake Placid Skiing Nordic Combined NOR individual          \n",
       "6  112 1932 Lake Placid Skiing Nordic Combined NOR individual          \n",
       "7  113 1932 Lake Placid Skiing Nordic Combined NOR individual          \n",
       "8  114 1932 Lake Placid Skiing Ski Jumping     NOR K90 individual (70m)\n",
       "9  115 1932 Lake Placid Skiing Ski Jumping     NOR K90 individual (70m)\n",
       "10 116 1932 Lake Placid Skiing Ski Jumping     NOR K90 individual (70m)\n",
       "11 119 1932 Lake Placid Skiing Cross Country S SWE 18km                \n",
       "12 120 1932 Lake Placid Skiing Cross Country S SWE 18km                \n",
       "   Event.gender Medal \n",
       "1  M            Bronze\n",
       "2  M            Gold  \n",
       "3  M            Silver\n",
       "4  M            Bronze\n",
       "5  M            Bronze\n",
       "6  M            Gold  \n",
       "7  M            Silver\n",
       "8  M            Bronze\n",
       "9  M            Gold  \n",
       "10 M            Silver\n",
       "11 M            Gold  \n",
       "12 M            Silver"
      ]
     },
     "metadata": {},
     "output_type": "display_data"
    }
   ],
   "source": [
    "data"
   ]
  },
  {
   "cell_type": "code",
   "execution_count": 6,
   "id": "debe145e",
   "metadata": {},
   "outputs": [],
   "source": [
    "data[1] = NULL"
   ]
  },
  {
   "cell_type": "code",
   "execution_count": 7,
   "id": "a748e4a4",
   "metadata": {},
   "outputs": [
    {
     "data": {
      "text/html": [
       "<table class=\"dataframe\">\n",
       "<caption>A data.frame: 12 × 8</caption>\n",
       "<thead>\n",
       "\t<tr><th scope=col>Year</th><th scope=col>City</th><th scope=col>Sport</th><th scope=col>Discipline</th><th scope=col>NOC</th><th scope=col>Event</th><th scope=col>Event.gender</th><th scope=col>Medal</th></tr>\n",
       "\t<tr><th scope=col>&lt;chr&gt;</th><th scope=col>&lt;chr&gt;</th><th scope=col>&lt;chr&gt;</th><th scope=col>&lt;chr&gt;</th><th scope=col>&lt;chr&gt;</th><th scope=col>&lt;chr&gt;</th><th scope=col>&lt;chr&gt;</th><th scope=col>&lt;chr&gt;</th></tr>\n",
       "</thead>\n",
       "<tbody>\n",
       "\t<tr><td>1932</td><td>Lake Placid</td><td>Skiing</td><td>Cross Country S</td><td>FIN</td><td>18km                </td><td>M</td><td>Bronze</td></tr>\n",
       "\t<tr><td>1932</td><td>Lake Placid</td><td>Skiing</td><td>Cross Country S</td><td>FIN</td><td>50km                </td><td>M</td><td>Gold  </td></tr>\n",
       "\t<tr><td>1932</td><td>Lake Placid</td><td>Skiing</td><td>Cross Country S</td><td>FIN</td><td>50km                </td><td>M</td><td>Silver</td></tr>\n",
       "\t<tr><td>1932</td><td>Lake Placid</td><td>Skiing</td><td>Cross Country S</td><td>NOR</td><td>50km                </td><td>M</td><td>Bronze</td></tr>\n",
       "\t<tr><td>1932</td><td>Lake Placid</td><td>Skiing</td><td>Nordic Combined</td><td>NOR</td><td>individual          </td><td>M</td><td>Bronze</td></tr>\n",
       "\t<tr><td>1932</td><td>Lake Placid</td><td>Skiing</td><td>Nordic Combined</td><td>NOR</td><td>individual          </td><td>M</td><td>Gold  </td></tr>\n",
       "\t<tr><td>1932</td><td>Lake Placid</td><td>Skiing</td><td>Nordic Combined</td><td>NOR</td><td>individual          </td><td>M</td><td>Silver</td></tr>\n",
       "\t<tr><td>1932</td><td>Lake Placid</td><td>Skiing</td><td>Ski Jumping    </td><td>NOR</td><td>K90 individual (70m)</td><td>M</td><td>Bronze</td></tr>\n",
       "\t<tr><td>1932</td><td>Lake Placid</td><td>Skiing</td><td>Ski Jumping    </td><td>NOR</td><td>K90 individual (70m)</td><td>M</td><td>Gold  </td></tr>\n",
       "\t<tr><td>1932</td><td>Lake Placid</td><td>Skiing</td><td>Ski Jumping    </td><td>NOR</td><td>K90 individual (70m)</td><td>M</td><td>Silver</td></tr>\n",
       "\t<tr><td>1932</td><td>Lake Placid</td><td>Skiing</td><td>Cross Country S</td><td>SWE</td><td>18km                </td><td>M</td><td>Gold  </td></tr>\n",
       "\t<tr><td>1932</td><td>Lake Placid</td><td>Skiing</td><td>Cross Country S</td><td>SWE</td><td>18km                </td><td>M</td><td>Silver</td></tr>\n",
       "</tbody>\n",
       "</table>\n"
      ],
      "text/latex": [
       "A data.frame: 12 × 8\n",
       "\\begin{tabular}{llllllll}\n",
       " Year & City & Sport & Discipline & NOC & Event & Event.gender & Medal\\\\\n",
       " <chr> & <chr> & <chr> & <chr> & <chr> & <chr> & <chr> & <chr>\\\\\n",
       "\\hline\n",
       "\t 1932 & Lake Placid & Skiing & Cross Country S & FIN & 18km                 & M & Bronze\\\\\n",
       "\t 1932 & Lake Placid & Skiing & Cross Country S & FIN & 50km                 & M & Gold  \\\\\n",
       "\t 1932 & Lake Placid & Skiing & Cross Country S & FIN & 50km                 & M & Silver\\\\\n",
       "\t 1932 & Lake Placid & Skiing & Cross Country S & NOR & 50km                 & M & Bronze\\\\\n",
       "\t 1932 & Lake Placid & Skiing & Nordic Combined & NOR & individual           & M & Bronze\\\\\n",
       "\t 1932 & Lake Placid & Skiing & Nordic Combined & NOR & individual           & M & Gold  \\\\\n",
       "\t 1932 & Lake Placid & Skiing & Nordic Combined & NOR & individual           & M & Silver\\\\\n",
       "\t 1932 & Lake Placid & Skiing & Ski Jumping     & NOR & K90 individual (70m) & M & Bronze\\\\\n",
       "\t 1932 & Lake Placid & Skiing & Ski Jumping     & NOR & K90 individual (70m) & M & Gold  \\\\\n",
       "\t 1932 & Lake Placid & Skiing & Ski Jumping     & NOR & K90 individual (70m) & M & Silver\\\\\n",
       "\t 1932 & Lake Placid & Skiing & Cross Country S & SWE & 18km                 & M & Gold  \\\\\n",
       "\t 1932 & Lake Placid & Skiing & Cross Country S & SWE & 18km                 & M & Silver\\\\\n",
       "\\end{tabular}\n"
      ],
      "text/markdown": [
       "\n",
       "A data.frame: 12 × 8\n",
       "\n",
       "| Year &lt;chr&gt; | City &lt;chr&gt; | Sport &lt;chr&gt; | Discipline &lt;chr&gt; | NOC &lt;chr&gt; | Event &lt;chr&gt; | Event.gender &lt;chr&gt; | Medal &lt;chr&gt; |\n",
       "|---|---|---|---|---|---|---|---|\n",
       "| 1932 | Lake Placid | Skiing | Cross Country S | FIN | 18km                 | M | Bronze |\n",
       "| 1932 | Lake Placid | Skiing | Cross Country S | FIN | 50km                 | M | Gold   |\n",
       "| 1932 | Lake Placid | Skiing | Cross Country S | FIN | 50km                 | M | Silver |\n",
       "| 1932 | Lake Placid | Skiing | Cross Country S | NOR | 50km                 | M | Bronze |\n",
       "| 1932 | Lake Placid | Skiing | Nordic Combined | NOR | individual           | M | Bronze |\n",
       "| 1932 | Lake Placid | Skiing | Nordic Combined | NOR | individual           | M | Gold   |\n",
       "| 1932 | Lake Placid | Skiing | Nordic Combined | NOR | individual           | M | Silver |\n",
       "| 1932 | Lake Placid | Skiing | Ski Jumping     | NOR | K90 individual (70m) | M | Bronze |\n",
       "| 1932 | Lake Placid | Skiing | Ski Jumping     | NOR | K90 individual (70m) | M | Gold   |\n",
       "| 1932 | Lake Placid | Skiing | Ski Jumping     | NOR | K90 individual (70m) | M | Silver |\n",
       "| 1932 | Lake Placid | Skiing | Cross Country S | SWE | 18km                 | M | Gold   |\n",
       "| 1932 | Lake Placid | Skiing | Cross Country S | SWE | 18km                 | M | Silver |\n",
       "\n"
      ],
      "text/plain": [
       "   Year City        Sport  Discipline      NOC Event               \n",
       "1  1932 Lake Placid Skiing Cross Country S FIN 18km                \n",
       "2  1932 Lake Placid Skiing Cross Country S FIN 50km                \n",
       "3  1932 Lake Placid Skiing Cross Country S FIN 50km                \n",
       "4  1932 Lake Placid Skiing Cross Country S NOR 50km                \n",
       "5  1932 Lake Placid Skiing Nordic Combined NOR individual          \n",
       "6  1932 Lake Placid Skiing Nordic Combined NOR individual          \n",
       "7  1932 Lake Placid Skiing Nordic Combined NOR individual          \n",
       "8  1932 Lake Placid Skiing Ski Jumping     NOR K90 individual (70m)\n",
       "9  1932 Lake Placid Skiing Ski Jumping     NOR K90 individual (70m)\n",
       "10 1932 Lake Placid Skiing Ski Jumping     NOR K90 individual (70m)\n",
       "11 1932 Lake Placid Skiing Cross Country S SWE 18km                \n",
       "12 1932 Lake Placid Skiing Cross Country S SWE 18km                \n",
       "   Event.gender Medal \n",
       "1  M            Bronze\n",
       "2  M            Gold  \n",
       "3  M            Silver\n",
       "4  M            Bronze\n",
       "5  M            Bronze\n",
       "6  M            Gold  \n",
       "7  M            Silver\n",
       "8  M            Bronze\n",
       "9  M            Gold  \n",
       "10 M            Silver\n",
       "11 M            Gold  \n",
       "12 M            Silver"
      ]
     },
     "metadata": {},
     "output_type": "display_data"
    }
   ],
   "source": [
    "data"
   ]
  },
  {
   "cell_type": "code",
   "execution_count": 9,
   "id": "566e96b9",
   "metadata": {},
   "outputs": [
    {
     "data": {
      "text/html": [
       "4"
      ],
      "text/latex": [
       "4"
      ],
      "text/markdown": [
       "4"
      ],
      "text/plain": [
       "[1] 4"
      ]
     },
     "metadata": {},
     "output_type": "display_data"
    }
   ],
   "source": [
    "nrow(data[data$Medal == 'Gold',])"
   ]
  },
  {
   "cell_type": "code",
   "execution_count": 11,
   "id": "b3b80acc",
   "metadata": {},
   "outputs": [
    {
     "data": {
      "text/html": [
       "<table class=\"dataframe\">\n",
       "<caption>A data.frame: 4 × 8</caption>\n",
       "<thead>\n",
       "\t<tr><th></th><th scope=col>Year</th><th scope=col>City</th><th scope=col>Sport</th><th scope=col>Discipline</th><th scope=col>NOC</th><th scope=col>Event</th><th scope=col>Event.gender</th><th scope=col>Medal</th></tr>\n",
       "\t<tr><th></th><th scope=col>&lt;chr&gt;</th><th scope=col>&lt;chr&gt;</th><th scope=col>&lt;chr&gt;</th><th scope=col>&lt;chr&gt;</th><th scope=col>&lt;chr&gt;</th><th scope=col>&lt;chr&gt;</th><th scope=col>&lt;chr&gt;</th><th scope=col>&lt;chr&gt;</th></tr>\n",
       "</thead>\n",
       "<tbody>\n",
       "\t<tr><th scope=row>2</th><td>1932</td><td>Lake Placid</td><td>Skiing</td><td>Cross Country S</td><td>FIN</td><td>50km                </td><td>M</td><td>Gold</td></tr>\n",
       "\t<tr><th scope=row>6</th><td>1932</td><td>Lake Placid</td><td>Skiing</td><td>Nordic Combined</td><td>NOR</td><td>individual          </td><td>M</td><td>Gold</td></tr>\n",
       "\t<tr><th scope=row>9</th><td>1932</td><td>Lake Placid</td><td>Skiing</td><td>Ski Jumping    </td><td>NOR</td><td>K90 individual (70m)</td><td>M</td><td>Gold</td></tr>\n",
       "\t<tr><th scope=row>11</th><td>1932</td><td>Lake Placid</td><td>Skiing</td><td>Cross Country S</td><td>SWE</td><td>18km                </td><td>M</td><td>Gold</td></tr>\n",
       "</tbody>\n",
       "</table>\n"
      ],
      "text/latex": [
       "A data.frame: 4 × 8\n",
       "\\begin{tabular}{r|llllllll}\n",
       "  & Year & City & Sport & Discipline & NOC & Event & Event.gender & Medal\\\\\n",
       "  & <chr> & <chr> & <chr> & <chr> & <chr> & <chr> & <chr> & <chr>\\\\\n",
       "\\hline\n",
       "\t2 & 1932 & Lake Placid & Skiing & Cross Country S & FIN & 50km                 & M & Gold\\\\\n",
       "\t6 & 1932 & Lake Placid & Skiing & Nordic Combined & NOR & individual           & M & Gold\\\\\n",
       "\t9 & 1932 & Lake Placid & Skiing & Ski Jumping     & NOR & K90 individual (70m) & M & Gold\\\\\n",
       "\t11 & 1932 & Lake Placid & Skiing & Cross Country S & SWE & 18km                 & M & Gold\\\\\n",
       "\\end{tabular}\n"
      ],
      "text/markdown": [
       "\n",
       "A data.frame: 4 × 8\n",
       "\n",
       "| <!--/--> | Year &lt;chr&gt; | City &lt;chr&gt; | Sport &lt;chr&gt; | Discipline &lt;chr&gt; | NOC &lt;chr&gt; | Event &lt;chr&gt; | Event.gender &lt;chr&gt; | Medal &lt;chr&gt; |\n",
       "|---|---|---|---|---|---|---|---|---|\n",
       "| 2 | 1932 | Lake Placid | Skiing | Cross Country S | FIN | 50km                 | M | Gold |\n",
       "| 6 | 1932 | Lake Placid | Skiing | Nordic Combined | NOR | individual           | M | Gold |\n",
       "| 9 | 1932 | Lake Placid | Skiing | Ski Jumping     | NOR | K90 individual (70m) | M | Gold |\n",
       "| 11 | 1932 | Lake Placid | Skiing | Cross Country S | SWE | 18km                 | M | Gold |\n",
       "\n"
      ],
      "text/plain": [
       "   Year City        Sport  Discipline      NOC Event               \n",
       "2  1932 Lake Placid Skiing Cross Country S FIN 50km                \n",
       "6  1932 Lake Placid Skiing Nordic Combined NOR individual          \n",
       "9  1932 Lake Placid Skiing Ski Jumping     NOR K90 individual (70m)\n",
       "11 1932 Lake Placid Skiing Cross Country S SWE 18km                \n",
       "   Event.gender Medal\n",
       "2  M            Gold \n",
       "6  M            Gold \n",
       "9  M            Gold \n",
       "11 M            Gold "
      ]
     },
     "metadata": {},
     "output_type": "display_data"
    }
   ],
   "source": [
    "data[data$Medal == 'Gold',]"
   ]
  },
  {
   "cell_type": "code",
   "execution_count": 10,
   "id": "df3aeb6d",
   "metadata": {
    "scrolled": true
   },
   "outputs": [
    {
     "name": "stderr",
     "output_type": "stream",
     "text": [
      "── \u001b[1mAttaching packages\u001b[22m ─────────────────────────────────────── tidyverse 1.3.1 ──\n",
      "\n",
      "\u001b[32m✔\u001b[39m \u001b[34mggplot2\u001b[39m 3.3.5     \u001b[32m✔\u001b[39m \u001b[34mpurrr  \u001b[39m 0.3.4\n",
      "\u001b[32m✔\u001b[39m \u001b[34mtibble \u001b[39m 3.1.2     \u001b[32m✔\u001b[39m \u001b[34mdplyr  \u001b[39m 1.0.7\n",
      "\u001b[32m✔\u001b[39m \u001b[34mtidyr  \u001b[39m 1.1.3     \u001b[32m✔\u001b[39m \u001b[34mstringr\u001b[39m 1.4.0\n",
      "\u001b[32m✔\u001b[39m \u001b[34mreadr  \u001b[39m 1.4.0     \u001b[32m✔\u001b[39m \u001b[34mforcats\u001b[39m 0.5.1\n",
      "\n",
      "── \u001b[1mConflicts\u001b[22m ────────────────────────────────────────── tidyverse_conflicts() ──\n",
      "\u001b[31m✖\u001b[39m \u001b[34mdplyr\u001b[39m::\u001b[32mfilter()\u001b[39m masks \u001b[34mstats\u001b[39m::filter()\n",
      "\u001b[31m✖\u001b[39m \u001b[34mdplyr\u001b[39m::\u001b[32mlag()\u001b[39m    masks \u001b[34mstats\u001b[39m::lag()\n",
      "\n"
     ]
    }
   ],
   "source": [
    "library(tidyverse)"
   ]
  },
  {
   "cell_type": "code",
   "execution_count": 17,
   "id": "103857cf",
   "metadata": {},
   "outputs": [
    {
     "data": {
      "text/html": [
       "4"
      ],
      "text/latex": [
       "4"
      ],
      "text/markdown": [
       "4"
      ],
      "text/plain": [
       "[1] 4"
      ]
     },
     "metadata": {},
     "output_type": "display_data"
    }
   ],
   "source": [
    "sum(data$Medal == 'Gold')"
   ]
  },
  {
   "cell_type": "code",
   "execution_count": 15,
   "id": "e02b08a5",
   "metadata": {},
   "outputs": [
    {
     "data": {
      "text/html": [
       "<table class=\"dataframe\">\n",
       "<caption>A data.frame: 4 × 8</caption>\n",
       "<thead>\n",
       "\t<tr><th scope=col>Year</th><th scope=col>City</th><th scope=col>Sport</th><th scope=col>Discipline</th><th scope=col>NOC</th><th scope=col>Event</th><th scope=col>Event.gender</th><th scope=col>Medal</th></tr>\n",
       "\t<tr><th scope=col>&lt;chr&gt;</th><th scope=col>&lt;chr&gt;</th><th scope=col>&lt;chr&gt;</th><th scope=col>&lt;chr&gt;</th><th scope=col>&lt;chr&gt;</th><th scope=col>&lt;chr&gt;</th><th scope=col>&lt;chr&gt;</th><th scope=col>&lt;chr&gt;</th></tr>\n",
       "</thead>\n",
       "<tbody>\n",
       "\t<tr><td>1932</td><td>Lake Placid</td><td>Skiing</td><td>Cross Country S</td><td>FIN</td><td>50km                </td><td>M</td><td>Gold</td></tr>\n",
       "\t<tr><td>1932</td><td>Lake Placid</td><td>Skiing</td><td>Nordic Combined</td><td>NOR</td><td>individual          </td><td>M</td><td>Gold</td></tr>\n",
       "\t<tr><td>1932</td><td>Lake Placid</td><td>Skiing</td><td>Ski Jumping    </td><td>NOR</td><td>K90 individual (70m)</td><td>M</td><td>Gold</td></tr>\n",
       "\t<tr><td>1932</td><td>Lake Placid</td><td>Skiing</td><td>Cross Country S</td><td>SWE</td><td>18km                </td><td>M</td><td>Gold</td></tr>\n",
       "</tbody>\n",
       "</table>\n"
      ],
      "text/latex": [
       "A data.frame: 4 × 8\n",
       "\\begin{tabular}{llllllll}\n",
       " Year & City & Sport & Discipline & NOC & Event & Event.gender & Medal\\\\\n",
       " <chr> & <chr> & <chr> & <chr> & <chr> & <chr> & <chr> & <chr>\\\\\n",
       "\\hline\n",
       "\t 1932 & Lake Placid & Skiing & Cross Country S & FIN & 50km                 & M & Gold\\\\\n",
       "\t 1932 & Lake Placid & Skiing & Nordic Combined & NOR & individual           & M & Gold\\\\\n",
       "\t 1932 & Lake Placid & Skiing & Ski Jumping     & NOR & K90 individual (70m) & M & Gold\\\\\n",
       "\t 1932 & Lake Placid & Skiing & Cross Country S & SWE & 18km                 & M & Gold\\\\\n",
       "\\end{tabular}\n"
      ],
      "text/markdown": [
       "\n",
       "A data.frame: 4 × 8\n",
       "\n",
       "| Year &lt;chr&gt; | City &lt;chr&gt; | Sport &lt;chr&gt; | Discipline &lt;chr&gt; | NOC &lt;chr&gt; | Event &lt;chr&gt; | Event.gender &lt;chr&gt; | Medal &lt;chr&gt; |\n",
       "|---|---|---|---|---|---|---|---|\n",
       "| 1932 | Lake Placid | Skiing | Cross Country S | FIN | 50km                 | M | Gold |\n",
       "| 1932 | Lake Placid | Skiing | Nordic Combined | NOR | individual           | M | Gold |\n",
       "| 1932 | Lake Placid | Skiing | Ski Jumping     | NOR | K90 individual (70m) | M | Gold |\n",
       "| 1932 | Lake Placid | Skiing | Cross Country S | SWE | 18km                 | M | Gold |\n",
       "\n"
      ],
      "text/plain": [
       "  Year City        Sport  Discipline      NOC Event                Event.gender\n",
       "1 1932 Lake Placid Skiing Cross Country S FIN 50km                 M           \n",
       "2 1932 Lake Placid Skiing Nordic Combined NOR individual           M           \n",
       "3 1932 Lake Placid Skiing Ski Jumping     NOR K90 individual (70m) M           \n",
       "4 1932 Lake Placid Skiing Cross Country S SWE 18km                 M           \n",
       "  Medal\n",
       "1 Gold \n",
       "2 Gold \n",
       "3 Gold \n",
       "4 Gold "
      ]
     },
     "metadata": {},
     "output_type": "display_data"
    }
   ],
   "source": [
    "filter(data, Medal == 'Gold')"
   ]
  },
  {
   "cell_type": "code",
   "execution_count": null,
   "id": "2b3cc5f0",
   "metadata": {},
   "outputs": [],
   "source": []
  }
 ],
 "metadata": {
  "kernelspec": {
   "display_name": "R",
   "language": "R",
   "name": "ir"
  },
  "language_info": {
   "codemirror_mode": "r",
   "file_extension": ".r",
   "mimetype": "text/x-r-source",
   "name": "R",
   "pygments_lexer": "r",
   "version": "4.1.0"
  }
 },
 "nbformat": 4,
 "nbformat_minor": 5
}
