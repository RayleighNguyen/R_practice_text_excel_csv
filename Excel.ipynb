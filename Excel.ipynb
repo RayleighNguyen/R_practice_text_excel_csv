{
 "cells": [
  {
   "cell_type": "code",
   "execution_count": 1,
   "id": "1885ab92",
   "metadata": {
    "scrolled": true
   },
   "outputs": [
    {
     "name": "stderr",
     "output_type": "stream",
     "text": [
      "Installing package into 'C:/Users/nqhuy/OneDrive/Documents/R/win-library/4.1'\n",
      "(as 'lib' is unspecified)\n",
      "\n"
     ]
    },
    {
     "name": "stdout",
     "output_type": "stream",
     "text": [
      "package 'xlsx' successfully unpacked and MD5 sums checked\n",
      "\n",
      "The downloaded binary packages are in\n",
      "\tC:\\Users\\nqhuy\\AppData\\Local\\Temp\\RtmpuURLgq\\downloaded_packages\n"
     ]
    }
   ],
   "source": [
    "install.packages('xlsx')"
   ]
  },
  {
   "cell_type": "code",
   "execution_count": 3,
   "id": "027708a4",
   "metadata": {},
   "outputs": [
    {
     "name": "stderr",
     "output_type": "stream",
     "text": [
      "Installing package into 'C:/Users/nqhuy/OneDrive/Documents/R/win-library/4.1'\n",
      "(as 'lib' is unspecified)\n",
      "\n"
     ]
    },
    {
     "name": "stdout",
     "output_type": "stream",
     "text": [
      "package 'rJava' successfully unpacked and MD5 sums checked\n",
      "\n",
      "The downloaded binary packages are in\n",
      "\tC:\\Users\\nqhuy\\AppData\\Local\\Temp\\RtmpuURLgq\\downloaded_packages\n"
     ]
    }
   ],
   "source": [
    "install.packages('rJava')"
   ]
  },
  {
   "cell_type": "code",
   "execution_count": 4,
   "id": "32683e7d",
   "metadata": {},
   "outputs": [
    {
     "name": "stderr",
     "output_type": "stream",
     "text": [
      "Installing package into 'C:/Users/nqhuy/OneDrive/Documents/R/win-library/4.1'\n",
      "(as 'lib' is unspecified)\n",
      "\n"
     ]
    },
    {
     "name": "stdout",
     "output_type": "stream",
     "text": [
      "package 'xlsxjars' successfully unpacked and MD5 sums checked\n",
      "\n",
      "The downloaded binary packages are in\n",
      "\tC:\\Users\\nqhuy\\AppData\\Local\\Temp\\RtmpuURLgq\\downloaded_packages\n"
     ]
    }
   ],
   "source": [
    "install.packages('xlsxjars')"
   ]
  },
  {
   "cell_type": "code",
   "execution_count": 7,
   "id": "6ca44d09",
   "metadata": {
    "scrolled": true
   },
   "outputs": [],
   "source": [
    "library('xlsx')"
   ]
  },
  {
   "cell_type": "code",
   "execution_count": 9,
   "id": "8447e4ce",
   "metadata": {},
   "outputs": [
    {
     "data": {
      "text/html": [
       "<table class=\"dataframe\">\n",
       "<caption>A data.frame: 8 × 5</caption>\n",
       "<thead>\n",
       "\t<tr><th scope=col>id</th><th scope=col>name</th><th scope=col>salary</th><th scope=col>start_date</th><th scope=col>dept</th></tr>\n",
       "\t<tr><th scope=col>&lt;chr&gt;</th><th scope=col>&lt;chr&gt;</th><th scope=col>&lt;dbl&gt;</th><th scope=col>&lt;date&gt;</th><th scope=col>&lt;chr&gt;</th></tr>\n",
       "</thead>\n",
       "<tbody>\n",
       "\t<tr><td>1</td><td>Rick    </td><td>623.30</td><td>2012-01-01</td><td>IT        </td></tr>\n",
       "\t<tr><td>2</td><td>Dan     </td><td>515.20</td><td>2013-09-23</td><td>Operations</td></tr>\n",
       "\t<tr><td>3</td><td>Michelle</td><td>611.00</td><td>2014-11-15</td><td>IT        </td></tr>\n",
       "\t<tr><td>4</td><td>Ryan    </td><td>729.00</td><td>2014-05-11</td><td>HR        </td></tr>\n",
       "\t<tr><td> </td><td>Gary    </td><td>843.25</td><td>2015-03-27</td><td>Finance   </td></tr>\n",
       "\t<tr><td>6</td><td>Nina    </td><td>578.00</td><td>2013-05-21</td><td>IT        </td></tr>\n",
       "\t<tr><td>7</td><td>Simon   </td><td>632.80</td><td>2013-07-30</td><td>Operations</td></tr>\n",
       "\t<tr><td>8</td><td>Guru    </td><td>722.50</td><td>2014-06-17</td><td>Finance   </td></tr>\n",
       "</tbody>\n",
       "</table>\n"
      ],
      "text/latex": [
       "A data.frame: 8 × 5\n",
       "\\begin{tabular}{lllll}\n",
       " id & name & salary & start\\_date & dept\\\\\n",
       " <chr> & <chr> & <dbl> & <date> & <chr>\\\\\n",
       "\\hline\n",
       "\t 1 & Rick     & 623.30 & 2012-01-01 & IT        \\\\\n",
       "\t 2 & Dan      & 515.20 & 2013-09-23 & Operations\\\\\n",
       "\t 3 & Michelle & 611.00 & 2014-11-15 & IT        \\\\\n",
       "\t 4 & Ryan     & 729.00 & 2014-05-11 & HR        \\\\\n",
       "\t   & Gary     & 843.25 & 2015-03-27 & Finance   \\\\\n",
       "\t 6 & Nina     & 578.00 & 2013-05-21 & IT        \\\\\n",
       "\t 7 & Simon    & 632.80 & 2013-07-30 & Operations\\\\\n",
       "\t 8 & Guru     & 722.50 & 2014-06-17 & Finance   \\\\\n",
       "\\end{tabular}\n"
      ],
      "text/markdown": [
       "\n",
       "A data.frame: 8 × 5\n",
       "\n",
       "| id &lt;chr&gt; | name &lt;chr&gt; | salary &lt;dbl&gt; | start_date &lt;date&gt; | dept &lt;chr&gt; |\n",
       "|---|---|---|---|---|\n",
       "| 1 | Rick     | 623.30 | 2012-01-01 | IT         |\n",
       "| 2 | Dan      | 515.20 | 2013-09-23 | Operations |\n",
       "| 3 | Michelle | 611.00 | 2014-11-15 | IT         |\n",
       "| 4 | Ryan     | 729.00 | 2014-05-11 | HR         |\n",
       "| <!----> | Gary     | 843.25 | 2015-03-27 | Finance    |\n",
       "| 6 | Nina     | 578.00 | 2013-05-21 | IT         |\n",
       "| 7 | Simon    | 632.80 | 2013-07-30 | Operations |\n",
       "| 8 | Guru     | 722.50 | 2014-06-17 | Finance    |\n",
       "\n"
      ],
      "text/plain": [
       "  id name     salary start_date dept      \n",
       "1 1  Rick     623.30 2012-01-01 IT        \n",
       "2 2  Dan      515.20 2013-09-23 Operations\n",
       "3 3  Michelle 611.00 2014-11-15 IT        \n",
       "4 4  Ryan     729.00 2014-05-11 HR        \n",
       "5    Gary     843.25 2015-03-27 Finance   \n",
       "6 6  Nina     578.00 2013-05-21 IT        \n",
       "7 7  Simon    632.80 2013-07-30 Operations\n",
       "8 8  Guru     722.50 2014-06-17 Finance   "
      ]
     },
     "metadata": {},
     "output_type": "display_data"
    }
   ],
   "source": [
    "# read data: read.xlsx('file directory', sheetIndex = [sheet name])\n",
    "data = read.xlsx('Du_lieu/emp_data.xlsx', sheetIndex = 1)\n",
    "data"
   ]
  },
  {
   "cell_type": "code",
   "execution_count": 10,
   "id": "fdf16fcb",
   "metadata": {},
   "outputs": [
    {
     "name": "stdout",
     "output_type": "stream",
     "text": [
      "      name    city\n",
      "1     Rick Seattle\n",
      "2      Dan   Tampa\n",
      "3 Michelle Chicago\n",
      "4     Ryan Seattle\n",
      "5     Gary Houston\n",
      "6     Nina  Boston\n",
      "7    Simon  Mumbai\n",
      "8     Guru  Dallas\n"
     ]
    }
   ],
   "source": [
    "city = read.xlsx('Du_lieu/emp_data.xlsx', sheetName = 'city')\n",
    "print(city)"
   ]
  },
  {
   "cell_type": "code",
   "execution_count": 12,
   "id": "e3f15d7a",
   "metadata": {},
   "outputs": [
    {
     "data": {
      "text/html": [
       "<table class=\"dataframe\">\n",
       "<caption>A data.frame: 3 × 6</caption>\n",
       "<thead>\n",
       "\t<tr><th scope=col>NA.</th><th scope=col>id</th><th scope=col>name</th><th scope=col>salary</th><th scope=col>start_date</th><th scope=col>dept</th></tr>\n",
       "\t<tr><th scope=col>&lt;chr&gt;</th><th scope=col>&lt;chr&gt;</th><th scope=col>&lt;chr&gt;</th><th scope=col>&lt;dbl&gt;</th><th scope=col>&lt;date&gt;</th><th scope=col>&lt;chr&gt;</th></tr>\n",
       "</thead>\n",
       "<tbody>\n",
       "\t<tr><td>1</td><td>1</td><td>Rick    </td><td>623.3</td><td>2012-01-01</td><td>IT</td></tr>\n",
       "\t<tr><td>3</td><td>3</td><td>Michelle</td><td>611.0</td><td>2014-11-15</td><td>IT</td></tr>\n",
       "\t<tr><td>6</td><td>6</td><td>Nina    </td><td>578.0</td><td>2013-05-21</td><td>IT</td></tr>\n",
       "</tbody>\n",
       "</table>\n"
      ],
      "text/latex": [
       "A data.frame: 3 × 6\n",
       "\\begin{tabular}{llllll}\n",
       " NA. & id & name & salary & start\\_date & dept\\\\\n",
       " <chr> & <chr> & <chr> & <dbl> & <date> & <chr>\\\\\n",
       "\\hline\n",
       "\t 1 & 1 & Rick     & 623.3 & 2012-01-01 & IT\\\\\n",
       "\t 3 & 3 & Michelle & 611.0 & 2014-11-15 & IT\\\\\n",
       "\t 6 & 6 & Nina     & 578.0 & 2013-05-21 & IT\\\\\n",
       "\\end{tabular}\n"
      ],
      "text/markdown": [
       "\n",
       "A data.frame: 3 × 6\n",
       "\n",
       "| NA. &lt;chr&gt; | id &lt;chr&gt; | name &lt;chr&gt; | salary &lt;dbl&gt; | start_date &lt;date&gt; | dept &lt;chr&gt; |\n",
       "|---|---|---|---|---|---|\n",
       "| 1 | 1 | Rick     | 623.3 | 2012-01-01 | IT |\n",
       "| 3 | 3 | Michelle | 611.0 | 2014-11-15 | IT |\n",
       "| 6 | 6 | Nina     | 578.0 | 2013-05-21 | IT |\n",
       "\n"
      ],
      "text/plain": [
       "  NA. id name     salary start_date dept\n",
       "1 1   1  Rick     623.3  2012-01-01 IT  \n",
       "2 3   3  Michelle 611.0  2014-11-15 IT  \n",
       "3 6   6  Nina     578.0  2013-05-21 IT  "
      ]
     },
     "metadata": {},
     "output_type": "display_data"
    }
   ],
   "source": [
    "it_emp = read.xlsx('Du_lieu/emp_IT.xlsx', sheetIndex = 1)\n",
    "it_emp"
   ]
  },
  {
   "cell_type": "code",
   "execution_count": 13,
   "id": "08c66167",
   "metadata": {},
   "outputs": [],
   "source": [
    "# write excel:\n",
    "# write.xlsx(dataFrame_name, file = 'file_directory', sheetName = ,\n",
    "#       [col.names = TRUE, row.names =, append = , showNA = T of F])"
   ]
  },
  {
   "cell_type": "code",
   "execution_count": 15,
   "id": "c70fb03c",
   "metadata": {},
   "outputs": [],
   "source": [
    "write.xlsx(it_emp, file = 'Du_lieu_new/emp_data.xlsx', sheetName = 'Sheet1',\n",
    "          append = F, row.names = F)"
   ]
  },
  {
   "cell_type": "code",
   "execution_count": 17,
   "id": "f95a2353",
   "metadata": {},
   "outputs": [],
   "source": [
    "new_data = read.xlsx('Du_lieu_new/emp_data.xlsx', sheetName = 'Sheet1')"
   ]
  },
  {
   "cell_type": "code",
   "execution_count": 18,
   "id": "744b48eb",
   "metadata": {},
   "outputs": [
    {
     "data": {
      "text/html": [
       "<table class=\"dataframe\">\n",
       "<caption>A data.frame: 3 × 6</caption>\n",
       "<thead>\n",
       "\t<tr><th scope=col>NA.</th><th scope=col>id</th><th scope=col>name</th><th scope=col>salary</th><th scope=col>start_date</th><th scope=col>dept</th></tr>\n",
       "\t<tr><th scope=col>&lt;chr&gt;</th><th scope=col>&lt;chr&gt;</th><th scope=col>&lt;chr&gt;</th><th scope=col>&lt;dbl&gt;</th><th scope=col>&lt;date&gt;</th><th scope=col>&lt;chr&gt;</th></tr>\n",
       "</thead>\n",
       "<tbody>\n",
       "\t<tr><td>1</td><td>1</td><td>Rick    </td><td>623.3</td><td>2012-01-01</td><td>IT</td></tr>\n",
       "\t<tr><td>3</td><td>3</td><td>Michelle</td><td>611.0</td><td>2014-11-15</td><td>IT</td></tr>\n",
       "\t<tr><td>6</td><td>6</td><td>Nina    </td><td>578.0</td><td>2013-05-21</td><td>IT</td></tr>\n",
       "</tbody>\n",
       "</table>\n"
      ],
      "text/latex": [
       "A data.frame: 3 × 6\n",
       "\\begin{tabular}{llllll}\n",
       " NA. & id & name & salary & start\\_date & dept\\\\\n",
       " <chr> & <chr> & <chr> & <dbl> & <date> & <chr>\\\\\n",
       "\\hline\n",
       "\t 1 & 1 & Rick     & 623.3 & 2012-01-01 & IT\\\\\n",
       "\t 3 & 3 & Michelle & 611.0 & 2014-11-15 & IT\\\\\n",
       "\t 6 & 6 & Nina     & 578.0 & 2013-05-21 & IT\\\\\n",
       "\\end{tabular}\n"
      ],
      "text/markdown": [
       "\n",
       "A data.frame: 3 × 6\n",
       "\n",
       "| NA. &lt;chr&gt; | id &lt;chr&gt; | name &lt;chr&gt; | salary &lt;dbl&gt; | start_date &lt;date&gt; | dept &lt;chr&gt; |\n",
       "|---|---|---|---|---|---|\n",
       "| 1 | 1 | Rick     | 623.3 | 2012-01-01 | IT |\n",
       "| 3 | 3 | Michelle | 611.0 | 2014-11-15 | IT |\n",
       "| 6 | 6 | Nina     | 578.0 | 2013-05-21 | IT |\n",
       "\n"
      ],
      "text/plain": [
       "  NA. id name     salary start_date dept\n",
       "1 1   1  Rick     623.3  2012-01-01 IT  \n",
       "2 3   3  Michelle 611.0  2014-11-15 IT  \n",
       "3 6   6  Nina     578.0  2013-05-21 IT  "
      ]
     },
     "metadata": {},
     "output_type": "display_data"
    }
   ],
   "source": [
    "new_data"
   ]
  },
  {
   "cell_type": "code",
   "execution_count": 19,
   "id": "42a2e299",
   "metadata": {},
   "outputs": [],
   "source": [
    "write.xlsx(it_emp, file = 'Du_lieu_new/emp_data.xlsx', sheetName = 'Sheet2',\n",
    "          append = T)"
   ]
  },
  {
   "cell_type": "code",
   "execution_count": 20,
   "id": "14e29714",
   "metadata": {},
   "outputs": [
    {
     "data": {
      "text/html": [
       "<table class=\"dataframe\">\n",
       "<caption>A data.frame: 3 × 7</caption>\n",
       "<thead>\n",
       "\t<tr><th scope=col>NA..1</th><th scope=col>NA.</th><th scope=col>id</th><th scope=col>name</th><th scope=col>salary</th><th scope=col>start_date</th><th scope=col>dept</th></tr>\n",
       "\t<tr><th scope=col>&lt;chr&gt;</th><th scope=col>&lt;chr&gt;</th><th scope=col>&lt;chr&gt;</th><th scope=col>&lt;chr&gt;</th><th scope=col>&lt;dbl&gt;</th><th scope=col>&lt;date&gt;</th><th scope=col>&lt;chr&gt;</th></tr>\n",
       "</thead>\n",
       "<tbody>\n",
       "\t<tr><td>1</td><td>1</td><td>1</td><td>Rick    </td><td>623.3</td><td>2012-01-01</td><td>IT</td></tr>\n",
       "\t<tr><td>2</td><td>3</td><td>3</td><td>Michelle</td><td>611.0</td><td>2014-11-15</td><td>IT</td></tr>\n",
       "\t<tr><td>3</td><td>6</td><td>6</td><td>Nina    </td><td>578.0</td><td>2013-05-21</td><td>IT</td></tr>\n",
       "</tbody>\n",
       "</table>\n"
      ],
      "text/latex": [
       "A data.frame: 3 × 7\n",
       "\\begin{tabular}{lllllll}\n",
       " NA..1 & NA. & id & name & salary & start\\_date & dept\\\\\n",
       " <chr> & <chr> & <chr> & <chr> & <dbl> & <date> & <chr>\\\\\n",
       "\\hline\n",
       "\t 1 & 1 & 1 & Rick     & 623.3 & 2012-01-01 & IT\\\\\n",
       "\t 2 & 3 & 3 & Michelle & 611.0 & 2014-11-15 & IT\\\\\n",
       "\t 3 & 6 & 6 & Nina     & 578.0 & 2013-05-21 & IT\\\\\n",
       "\\end{tabular}\n"
      ],
      "text/markdown": [
       "\n",
       "A data.frame: 3 × 7\n",
       "\n",
       "| NA..1 &lt;chr&gt; | NA. &lt;chr&gt; | id &lt;chr&gt; | name &lt;chr&gt; | salary &lt;dbl&gt; | start_date &lt;date&gt; | dept &lt;chr&gt; |\n",
       "|---|---|---|---|---|---|---|\n",
       "| 1 | 1 | 1 | Rick     | 623.3 | 2012-01-01 | IT |\n",
       "| 2 | 3 | 3 | Michelle | 611.0 | 2014-11-15 | IT |\n",
       "| 3 | 6 | 6 | Nina     | 578.0 | 2013-05-21 | IT |\n",
       "\n"
      ],
      "text/plain": [
       "  NA..1 NA. id name     salary start_date dept\n",
       "1 1     1   1  Rick     623.3  2012-01-01 IT  \n",
       "2 2     3   3  Michelle 611.0  2014-11-15 IT  \n",
       "3 3     6   6  Nina     578.0  2013-05-21 IT  "
      ]
     },
     "metadata": {},
     "output_type": "display_data"
    }
   ],
   "source": [
    "new_data2 = read.xlsx('Du_lieu_new/emp_data.xlsx', sheetName = 'Sheet2')\n",
    "new_data2"
   ]
  },
  {
   "cell_type": "code",
   "execution_count": null,
   "id": "7c401f7a",
   "metadata": {},
   "outputs": [],
   "source": []
  }
 ],
 "metadata": {
  "kernelspec": {
   "display_name": "R",
   "language": "R",
   "name": "ir"
  },
  "language_info": {
   "codemirror_mode": "r",
   "file_extension": ".r",
   "mimetype": "text/x-r-source",
   "name": "R",
   "pygments_lexer": "r",
   "version": "4.1.0"
  }
 },
 "nbformat": 4,
 "nbformat_minor": 5
}
