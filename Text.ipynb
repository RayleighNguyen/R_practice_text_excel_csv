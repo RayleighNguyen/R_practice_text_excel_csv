{
 "cells": [
  {
   "cell_type": "code",
   "execution_count": 1,
   "id": "a257679e",
   "metadata": {},
   "outputs": [
    {
     "ename": "ERROR",
     "evalue": "Error in get(wd): object 'wd' not found\n",
     "output_type": "error",
     "traceback": [
      "Error in get(wd): object 'wd' not found\nTraceback:\n",
      "1. get(wd)"
     ]
    }
   ],
   "source": [
    "get(wd)"
   ]
  },
  {
   "cell_type": "code",
   "execution_count": 2,
   "id": "e00d93d8",
   "metadata": {},
   "outputs": [
    {
     "data": {
      "text/html": [
       "'/Users/macos/Desktop/LDS7/Demo/Chapter_9'"
      ],
      "text/latex": [
       "'/Users/macos/Desktop/LDS7/Demo/Chapter\\_9'"
      ],
      "text/markdown": [
       "'/Users/macos/Desktop/LDS7/Demo/Chapter_9'"
      ],
      "text/plain": [
       "[1] \"/Users/macos/Desktop/LDS7/Demo/Chapter_9\""
      ]
     },
     "metadata": {},
     "output_type": "display_data"
    }
   ],
   "source": [
    "getwd()"
   ]
  },
  {
   "cell_type": "code",
   "execution_count": 7,
   "id": "aaec2d8f",
   "metadata": {},
   "outputs": [],
   "source": [
    "# read file with each line\n",
    "content = readLines('Du_lieu/license.txt')"
   ]
  },
  {
   "cell_type": "code",
   "execution_count": 8,
   "id": "c47eab35",
   "metadata": {},
   "outputs": [
    {
     "name": "stdout",
     "output_type": "stream",
     "text": [
      "[1] \"These data files are derived by splitting up the data set downloaded from:\"\n",
      "[2] \"https://www.ontario.ca/data/ontario-public-schools-enrolment\"              \n",
      "[3] \"under the Open Government License - Ontario:\"                              \n",
      "[4] \"https://www.ontario.ca/page/open-government-licence-ontario\"               \n"
     ]
    }
   ],
   "source": [
    "print(content)"
   ]
  },
  {
   "cell_type": "code",
   "execution_count": 9,
   "id": "47b4aadf",
   "metadata": {},
   "outputs": [],
   "source": [
    "content1 = readLines('Du_lieu//bai_tho.txt', encoding = 'UTF-8')"
   ]
  },
  {
   "cell_type": "code",
   "execution_count": 10,
   "id": "b5701c39",
   "metadata": {},
   "outputs": [
    {
     "name": "stdout",
     "output_type": "stream",
     "text": [
      "[1] \"Mùa xuân là Tết trồng cây\"           \n",
      "[2] \"Làm cho đất nước càng ngày càng xuân\"\n",
      "[3] \"\"                                    \n"
     ]
    }
   ],
   "source": [
    "print(content1)"
   ]
  },
  {
   "cell_type": "code",
   "execution_count": 11,
   "id": "64fcf5ac",
   "metadata": {},
   "outputs": [
    {
     "data": {
      "text/html": [
       "4"
      ],
      "text/latex": [
       "4"
      ],
      "text/markdown": [
       "4"
      ],
      "text/plain": [
       "[1] 4"
      ]
     },
     "metadata": {},
     "output_type": "display_data"
    }
   ],
   "source": [
    "# dem so luong element trong vector ket qua: length()\n",
    "length(content)"
   ]
  },
  {
   "cell_type": "code",
   "execution_count": 12,
   "id": "07c31d29",
   "metadata": {},
   "outputs": [
    {
     "data": {
      "text/html": [
       "<style>\n",
       ".list-inline {list-style: none; margin:0; padding: 0}\n",
       ".list-inline>li {display: inline-block}\n",
       ".list-inline>li:not(:last-child)::after {content: \"\\00b7\"; padding: 0 .5ex}\n",
       "</style>\n",
       "<ol class=list-inline><li>74</li><li>60</li><li>44</li><li>59</li></ol>\n"
      ],
      "text/latex": [
       "\\begin{enumerate*}\n",
       "\\item 74\n",
       "\\item 60\n",
       "\\item 44\n",
       "\\item 59\n",
       "\\end{enumerate*}\n"
      ],
      "text/markdown": [
       "1. 74\n",
       "2. 60\n",
       "3. 44\n",
       "4. 59\n",
       "\n",
       "\n"
      ],
      "text/plain": [
       "[1] 74 60 44 59"
      ]
     },
     "metadata": {},
     "output_type": "display_data"
    }
   ],
   "source": [
    "# Dem so ky tu cua tung element trong vector: nchar()\n",
    "nchar(content)"
   ]
  },
  {
   "cell_type": "code",
   "execution_count": 13,
   "id": "0f0d839e",
   "metadata": {},
   "outputs": [
    {
     "data": {
      "text/html": [
       "242"
      ],
      "text/latex": [
       "242"
      ],
      "text/markdown": [
       "242"
      ],
      "text/plain": [
       "[1] 242"
      ]
     },
     "metadata": {},
     "output_type": "display_data"
    }
   ],
   "source": [
    "# kiem tra kich co file: file.size('file directory')\n",
    "file.size('Du_lieu/license.txt')"
   ]
  },
  {
   "cell_type": "code",
   "execution_count": 29,
   "id": "6937f9ad",
   "metadata": {},
   "outputs": [],
   "source": [
    "# read file with element (word): scan('file directory', 'r', sep =) \n",
    "content2 = scan('Du_lieu/license.txt', 'r',)"
   ]
  },
  {
   "cell_type": "code",
   "execution_count": 30,
   "id": "b2eeb65e",
   "metadata": {},
   "outputs": [
    {
     "name": "stdout",
     "output_type": "stream",
     "text": [
      " [1] \"These\"                                                       \n",
      " [2] \"data\"                                                        \n",
      " [3] \"files\"                                                       \n",
      " [4] \"are\"                                                         \n",
      " [5] \"derived\"                                                     \n",
      " [6] \"by\"                                                          \n",
      " [7] \"splitting\"                                                   \n",
      " [8] \"up\"                                                          \n",
      " [9] \"the\"                                                         \n",
      "[10] \"data\"                                                        \n",
      "[11] \"set\"                                                         \n",
      "[12] \"downloaded\"                                                  \n",
      "[13] \"from:\"                                                       \n",
      "[14] \"https://www.ontario.ca/data/ontario-public-schools-enrolment\"\n",
      "[15] \"under\"                                                       \n",
      "[16] \"the\"                                                         \n",
      "[17] \"Open\"                                                        \n",
      "[18] \"Government\"                                                  \n",
      "[19] \"License\"                                                     \n",
      "[20] \"-\"                                                           \n",
      "[21] \"Ontario:\"                                                    \n",
      "[22] \"https://www.ontario.ca/page/open-government-licence-ontario\" \n"
     ]
    }
   ],
   "source": [
    "print(content2)"
   ]
  },
  {
   "cell_type": "code",
   "execution_count": 31,
   "id": "7fab6904",
   "metadata": {},
   "outputs": [
    {
     "data": {
      "text/html": [
       "<table class=\"dataframe\">\n",
       "<caption>A data.frame: 7 × 5</caption>\n",
       "<thead>\n",
       "\t<tr><th scope=col>V1</th><th scope=col>V2</th><th scope=col>V3</th><th scope=col>V4</th><th scope=col>V5</th></tr>\n",
       "\t<tr><th scope=col>&lt;chr&gt;</th><th scope=col>&lt;int&gt;</th><th scope=col>&lt;int&gt;</th><th scope=col>&lt;int&gt;</th><th scope=col>&lt;chr&gt;</th></tr>\n",
       "</thead>\n",
       "<tbody>\n",
       "\t<tr><td>Alex    </td><td>25</td><td>177</td><td>57</td><td>F</td></tr>\n",
       "\t<tr><td>Lilly   </td><td>31</td><td>163</td><td>69</td><td>F</td></tr>\n",
       "\t<tr><td>Mark    </td><td>23</td><td>190</td><td>83</td><td>M</td></tr>\n",
       "\t<tr><td>Oliver  </td><td>52</td><td>179</td><td>75</td><td>M</td></tr>\n",
       "\t<tr><td>Martha  </td><td>76</td><td>163</td><td>70</td><td>F</td></tr>\n",
       "\t<tr><td>Lucas   </td><td>49</td><td>183</td><td>83</td><td>M</td></tr>\n",
       "\t<tr><td>Caroline</td><td>26</td><td>164</td><td>53</td><td>F</td></tr>\n",
       "</tbody>\n",
       "</table>\n"
      ],
      "text/latex": [
       "A data.frame: 7 × 5\n",
       "\\begin{tabular}{lllll}\n",
       " V1 & V2 & V3 & V4 & V5\\\\\n",
       " <chr> & <int> & <int> & <int> & <chr>\\\\\n",
       "\\hline\n",
       "\t Alex     & 25 & 177 & 57 & F\\\\\n",
       "\t Lilly    & 31 & 163 & 69 & F\\\\\n",
       "\t Mark     & 23 & 190 & 83 & M\\\\\n",
       "\t Oliver   & 52 & 179 & 75 & M\\\\\n",
       "\t Martha   & 76 & 163 & 70 & F\\\\\n",
       "\t Lucas    & 49 & 183 & 83 & M\\\\\n",
       "\t Caroline & 26 & 164 & 53 & F\\\\\n",
       "\\end{tabular}\n"
      ],
      "text/markdown": [
       "\n",
       "A data.frame: 7 × 5\n",
       "\n",
       "| V1 &lt;chr&gt; | V2 &lt;int&gt; | V3 &lt;int&gt; | V4 &lt;int&gt; | V5 &lt;chr&gt; |\n",
       "|---|---|---|---|---|\n",
       "| Alex     | 25 | 177 | 57 | F |\n",
       "| Lilly    | 31 | 163 | 69 | F |\n",
       "| Mark     | 23 | 190 | 83 | M |\n",
       "| Oliver   | 52 | 179 | 75 | M |\n",
       "| Martha   | 76 | 163 | 70 | F |\n",
       "| Lucas    | 49 | 183 | 83 | M |\n",
       "| Caroline | 26 | 164 | 53 | F |\n",
       "\n"
      ],
      "text/plain": [
       "  V1       V2 V3  V4 V5\n",
       "1 Alex     25 177 57 F \n",
       "2 Lilly    31 163 69 F \n",
       "3 Mark     23 190 83 M \n",
       "4 Oliver   52 179 75 M \n",
       "5 Martha   76 163 70 F \n",
       "6 Lucas    49 183 83 M \n",
       "7 Caroline 26 164 53 F "
      ]
     },
     "metadata": {},
     "output_type": "display_data"
    }
   ],
   "source": [
    "# read file with table structure: read.table('file directory')\n",
    "df = read.table(\"Du_lieu/Table0.txt\")\n",
    "df"
   ]
  },
  {
   "cell_type": "code",
   "execution_count": 32,
   "id": "430ce07b",
   "metadata": {},
   "outputs": [
    {
     "data": {
      "text/html": [
       "'data.frame'"
      ],
      "text/latex": [
       "'data.frame'"
      ],
      "text/markdown": [
       "'data.frame'"
      ],
      "text/plain": [
       "[1] \"data.frame\""
      ]
     },
     "metadata": {},
     "output_type": "display_data"
    }
   ],
   "source": [
    "class(df)"
   ]
  },
  {
   "cell_type": "code",
   "execution_count": 33,
   "id": "8107714e",
   "metadata": {},
   "outputs": [
    {
     "data": {
      "text/html": [
       "'list'"
      ],
      "text/latex": [
       "'list'"
      ],
      "text/markdown": [
       "'list'"
      ],
      "text/plain": [
       "[1] \"list\""
      ]
     },
     "metadata": {},
     "output_type": "display_data"
    }
   ],
   "source": [
    "typeof(df)"
   ]
  },
  {
   "cell_type": "code",
   "execution_count": 34,
   "id": "54a00ae1",
   "metadata": {},
   "outputs": [],
   "source": [
    "# ghi file text: write(content, file = file_name)\n",
    "# filename = file(description = 'file directory', open = 'file_mode')\n",
    "# file_mode: 'a': append, 'w': write"
   ]
  },
  {
   "cell_type": "code",
   "execution_count": 35,
   "id": "350be75a",
   "metadata": {},
   "outputs": [],
   "source": [
    "content3 = 'Hello and welcome'\n",
    "file_name = file(description = 'Du_lieu_new/text.txt', open = 'a')\n",
    "write(content3, file = file_name)"
   ]
  },
  {
   "cell_type": "code",
   "execution_count": 36,
   "id": "3d706cab",
   "metadata": {},
   "outputs": [
    {
     "data": {
      "text/html": [
       "'Hello and welcome'"
      ],
      "text/latex": [
       "'Hello and welcome'"
      ],
      "text/markdown": [
       "'Hello and welcome'"
      ],
      "text/plain": [
       "[1] \"Hello and welcome\""
      ]
     },
     "metadata": {},
     "output_type": "display_data"
    }
   ],
   "source": [
    "content4 = readLines('Du_lieu_new/text.txt')\n",
    "content4"
   ]
  },
  {
   "cell_type": "code",
   "execution_count": 37,
   "id": "5ce2c42d",
   "metadata": {},
   "outputs": [],
   "source": [
    "content5 = matrix(c(1:9), nrow = 3, ncol = 3)\n",
    "write(content5, file = 'Du_lieu_new/matrix.txt', ncolumns = 3, sep = ' ')"
   ]
  },
  {
   "cell_type": "code",
   "execution_count": 39,
   "id": "b26f1c40",
   "metadata": {},
   "outputs": [
    {
     "name": "stdout",
     "output_type": "stream",
     "text": [
      "[1] \"1 2 3\" \"4 5 6\" \"7 8 9\"\n"
     ]
    }
   ],
   "source": [
    "content6 = readLines('Du_lieu_new/matrix.txt')\n",
    "print(content6)"
   ]
  },
  {
   "cell_type": "code",
   "execution_count": 40,
   "id": "d768a645",
   "metadata": {},
   "outputs": [],
   "source": [
    "# write file with structure: write.table(content, file = file_directory,  sep)\n",
    "write.table(df, file = 'Du_lieu_new/Table0.txt', sep='\\t')"
   ]
  },
  {
   "cell_type": "code",
   "execution_count": 41,
   "id": "21bd42fd",
   "metadata": {},
   "outputs": [],
   "source": [
    "write.table(content5, file = 'Du_lieu_new/matrix_2.txt', sep='\\t')"
   ]
  },
  {
   "cell_type": "code",
   "execution_count": 42,
   "id": "ce6f7468",
   "metadata": {},
   "outputs": [
    {
     "data": {
      "text/html": [
       "<table class=\"dataframe\">\n",
       "<caption>A data.frame: 3 × 3</caption>\n",
       "<thead>\n",
       "\t<tr><th></th><th scope=col>V1</th><th scope=col>V2</th><th scope=col>V3</th></tr>\n",
       "\t<tr><th></th><th scope=col>&lt;int&gt;</th><th scope=col>&lt;int&gt;</th><th scope=col>&lt;int&gt;</th></tr>\n",
       "</thead>\n",
       "<tbody>\n",
       "\t<tr><th scope=row>1</th><td>1</td><td>4</td><td>7</td></tr>\n",
       "\t<tr><th scope=row>2</th><td>2</td><td>5</td><td>8</td></tr>\n",
       "\t<tr><th scope=row>3</th><td>3</td><td>6</td><td>9</td></tr>\n",
       "</tbody>\n",
       "</table>\n"
      ],
      "text/latex": [
       "A data.frame: 3 × 3\n",
       "\\begin{tabular}{r|lll}\n",
       "  & V1 & V2 & V3\\\\\n",
       "  & <int> & <int> & <int>\\\\\n",
       "\\hline\n",
       "\t1 & 1 & 4 & 7\\\\\n",
       "\t2 & 2 & 5 & 8\\\\\n",
       "\t3 & 3 & 6 & 9\\\\\n",
       "\\end{tabular}\n"
      ],
      "text/markdown": [
       "\n",
       "A data.frame: 3 × 3\n",
       "\n",
       "| <!--/--> | V1 &lt;int&gt; | V2 &lt;int&gt; | V3 &lt;int&gt; |\n",
       "|---|---|---|---|\n",
       "| 1 | 1 | 4 | 7 |\n",
       "| 2 | 2 | 5 | 8 |\n",
       "| 3 | 3 | 6 | 9 |\n",
       "\n"
      ],
      "text/plain": [
       "  V1 V2 V3\n",
       "1 1  4  7 \n",
       "2 2  5  8 \n",
       "3 3  6  9 "
      ]
     },
     "metadata": {},
     "output_type": "display_data"
    }
   ],
   "source": [
    "read.table('Du_lieu_new/matrix_2.txt')"
   ]
  },
  {
   "cell_type": "code",
   "execution_count": null,
   "id": "f6600997",
   "metadata": {},
   "outputs": [],
   "source": []
  }
 ],
 "metadata": {
  "kernelspec": {
   "display_name": "R",
   "language": "R",
   "name": "ir"
  },
  "language_info": {
   "codemirror_mode": "r",
   "file_extension": ".r",
   "mimetype": "text/x-r-source",
   "name": "R",
   "pygments_lexer": "r",
   "version": "4.1.0"
  }
 },
 "nbformat": 4,
 "nbformat_minor": 5
}
